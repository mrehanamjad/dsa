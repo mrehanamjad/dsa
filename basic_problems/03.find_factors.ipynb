{
 "cells": [
  {
   "cell_type": "code",
   "execution_count": 2,
   "id": "30ed6fec",
   "metadata": {},
   "outputs": [],
   "source": [
    "# imports\n",
    "import math"
   ]
  },
  {
   "cell_type": "markdown",
   "id": "f0562822",
   "metadata": {},
   "source": [
    "## Find Factors/Divisors\n",
    "- 10 : [1,2,5,10]\n",
    "- 15 : [1,3,5,15]\n",
    "- 7  : [1,7]"
   ]
  },
  {
   "cell_type": "markdown",
   "id": "a874413a",
   "metadata": {},
   "source": [
    "- **Sol 1:** \n",
    "- **Time Comp**  = O(N)\n",
    "- **Space Comp** = O(k) \n",
    "    where **k** world be total numbers of factors "
   ]
  },
  {
   "cell_type": "code",
   "execution_count": 8,
   "id": "9a17ada9",
   "metadata": {},
   "outputs": [
    {
     "name": "stdout",
     "output_type": "stream",
     "text": [
      "[1, 17]\n",
      "[1, 2, 617, 1234]\n"
     ]
    }
   ],
   "source": [
    "def getFactors(x):\n",
    "    factors = []\n",
    "    current_dividing_num = 1\n",
    "    for i in range(1,x+1):\n",
    "        if x % i == 0:\n",
    "            factors.append(i)\n",
    "\n",
    "    return factors\n",
    "\n",
    "print(getFactors(17))\n",
    "print(getFactors(1234))"
   ]
  },
  {
   "cell_type": "markdown",
   "id": "ab8b8b67",
   "metadata": {},
   "source": [
    "2. **Better Solution**\n",
    "\n",
    "use some tricks:\n",
    "\n",
    "for numbers like 10,20,30,.. it is divisible till the first half and the last half always not divisible\n",
    "\n",
    "so we do not need to run loop on second half\n",
    "\n",
    "10 : 1,2,❌,❌,5,❌,❌,❌,❌,1\n",
    "\n",
    "20 : 1,2,❌,4,5,❌,❌,❌,❌,10,❌,❌,❌,...,20\n",
    "\n",
    "etc"
   ]
  },
  {
   "cell_type": "markdown",
   "id": "fe75a66f",
   "metadata": {},
   "source": [
    "- **Sol 2:** \n",
    "- **Time Comp**  = almost O(N) || =>  O(N/2) => O(N*1/2) [remove the constant so ] => almost O(N) \n"
   ]
  },
  {
   "cell_type": "code",
   "execution_count": 12,
   "id": "fe1de018",
   "metadata": {},
   "outputs": [
    {
     "name": "stdout",
     "output_type": "stream",
     "text": [
      "[1, 2, 10]\n",
      "[1, 2, 4, 5, 20]\n"
     ]
    }
   ],
   "source": [
    "def getFactorsB(x):\n",
    "    factors = []\n",
    "    for i in range(1,x//2):\n",
    "        if x % i == 0:\n",
    "            factors.append(i)\n",
    "    factors.append(x)\n",
    "    return factors\n",
    "\n",
    "print(getFactorsB(10))\n",
    "print(getFactorsB(20))"
   ]
  },
  {
   "cell_type": "markdown",
   "id": "4066dce7",
   "metadata": {},
   "source": [
    "3. **OPtimal Solution:**\n",
    "lets take 36:\n",
    "- 1 is factor  \n",
    "  36/1 = 36 is also factor\n",
    "- 2 is factor then   \n",
    "  36/2 = 18 is also factor\n",
    "- 3 is factor then  \n",
    "  36/3  = 4 is also a factor    \n",
    "- 6 is factor then  \n",
    "  36/6 = 6 is also factor\n",
    "\n",
    "so do:  \n",
    "`loop -> from 36 to square_root(36)`  \n",
    "if num is variable holding number then  \n",
    "`loop -> from num to square_root(num)`"
   ]
  },
  {
   "cell_type": "markdown",
   "id": "35834dc7",
   "metadata": {},
   "source": [
    "- **Sol 3:** \n",
    "- **Time Comp**  = O(squre_root(x)) + O(N logN)\n",
    "- **Space Comp** = O(k) \n",
    "    where **k** world be total numbers of factors "
   ]
  },
  {
   "cell_type": "code",
   "execution_count": 30,
   "id": "dfd25a4b",
   "metadata": {},
   "outputs": [
    {
     "name": "stdout",
     "output_type": "stream",
     "text": [
      "[1, 2, 3, 4, 6, 9, 12, 18, 36]\n",
      "[1, 2, 617, 1234]\n"
     ]
    }
   ],
   "source": [
    "def getFactorsO(x):\n",
    "    factors = []\n",
    "    for i in range(1,int(math.sqrt(x)) + 1): # O(squre_root(x))\n",
    "        if x % i == 0:\n",
    "            factors.append(i)\n",
    "            if x//i != i:\n",
    "               factors.append(x//i)\n",
    "\n",
    "    factors.sort()  # O(N logN)\n",
    "    return factors\n",
    "\n",
    "print(getFactorsO(36))\n",
    "print(getFactorsO(1234))"
   ]
  }
 ],
 "metadata": {
  "kernelspec": {
   "display_name": "dsa",
   "language": "python",
   "name": "python3"
  },
  "language_info": {
   "codemirror_mode": {
    "name": "ipython",
    "version": 3
   },
   "file_extension": ".py",
   "mimetype": "text/x-python",
   "name": "python",
   "nbconvert_exporter": "python",
   "pygments_lexer": "ipython3",
   "version": "3.12.3"
  }
 },
 "nbformat": 4,
 "nbformat_minor": 5
}
