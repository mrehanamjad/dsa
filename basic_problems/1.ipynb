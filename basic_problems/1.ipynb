{
 "cells": [
  {
   "cell_type": "markdown",
   "id": "92897891",
   "metadata": {},
   "source": [
    "## Check Palindrome"
   ]
  },
  {
   "cell_type": "code",
   "execution_count": null,
   "id": "f9c8dad0",
   "metadata": {},
   "outputs": [
    {
     "name": "stdout",
     "output_type": "stream",
     "text": [
      "True\n",
      "True\n",
      "False\n",
      "False\n"
     ]
    }
   ],
   "source": [
    "def isPalindrome(x):\n",
    "    num = x \n",
    "    new_num = 0\n",
    "\n",
    "    while num > 0:\n",
    "        new_num = (new_num *10) + (num % 10)\n",
    "        num = num//10\n",
    "    \n",
    "    return x == new_num\n",
    "\n",
    "print(isPalindrome(12321))\n",
    "print(isPalindrome(121))\n",
    "print(isPalindrome(-121))\n",
    "print(isPalindrome(10))\n",
    "\n",
    "# Time Comp = O(log10(n))\n",
    "# Space C   = O(1)"
   ]
  },
  {
   "cell_type": "markdown",
   "id": "d5984acd",
   "metadata": {},
   "source": []
  },
  {
   "cell_type": "code",
   "execution_count": null,
   "id": "838c7c9f",
   "metadata": {},
   "outputs": [],
   "source": []
  }
 ],
 "metadata": {
  "kernelspec": {
   "display_name": "dsa",
   "language": "python",
   "name": "python3"
  },
  "language_info": {
   "codemirror_mode": {
    "name": "ipython",
    "version": 3
   },
   "file_extension": ".py",
   "mimetype": "text/x-python",
   "name": "python",
   "nbconvert_exporter": "python",
   "pygments_lexer": "ipython3",
   "version": "3.12.3"
  }
 },
 "nbformat": 4,
 "nbformat_minor": 5
}
