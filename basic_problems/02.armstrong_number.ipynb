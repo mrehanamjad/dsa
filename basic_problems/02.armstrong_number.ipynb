{
 "cells": [
  {
   "cell_type": "code",
   "execution_count": 1,
   "id": "a027b482",
   "metadata": {},
   "outputs": [],
   "source": [
    "# imports\n",
    "import math"
   ]
  },
  {
   "cell_type": "markdown",
   "id": "bd40ca1c",
   "metadata": {},
   "source": [
    "## Armstrong Number Definition\n",
    "A number is an Armstrong number (also called a narcissistic number) if the sum of its digits raised to the power of the number of digits equals the number itself.\n",
    "\n",
    "**Examples:**\n",
    "153 : 1^3 + 5^3 + 3^3 = 153 ✅"
   ]
  },
  {
   "cell_type": "code",
   "execution_count": 2,
   "id": "4fe2784e",
   "metadata": {},
   "outputs": [
    {
     "name": "stdout",
     "output_type": "stream",
     "text": [
      "True\n",
      "True\n"
     ]
    }
   ],
   "source": [
    "def isArmstrong(x):\n",
    "    num = x\n",
    "    length = int(math.log10(x) + 1) # len(str(x))\n",
    "    new_num = 0\n",
    "\n",
    "    while num > 0:\n",
    "        #  last_digit = num % 10\n",
    "        #  new_num = new_num + (last_digit**length) \n",
    "        new_num += ((num%10)**length)        \n",
    "        num = num//10\n",
    "        \n",
    "    return new_num == x\n",
    "print(isArmstrong(153))\n",
    "print(isArmstrong(1634))\n",
    "    "
   ]
  }
 ],
 "metadata": {
  "kernelspec": {
   "display_name": "dsa",
   "language": "python",
   "name": "python3"
  },
  "language_info": {
   "codemirror_mode": {
    "name": "ipython",
    "version": 3
   },
   "file_extension": ".py",
   "mimetype": "text/x-python",
   "name": "python",
   "nbconvert_exporter": "python",
   "pygments_lexer": "ipython3",
   "version": "3.12.3"
  }
 },
 "nbformat": 4,
 "nbformat_minor": 5
}
