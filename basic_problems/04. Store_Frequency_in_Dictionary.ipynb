{
 "cells": [
  {
   "cell_type": "markdown",
   "id": "74735710",
   "metadata": {},
   "source": [
    "### Store Frequency in Dictionary"
   ]
  },
  {
   "cell_type": "markdown",
   "id": "6b73c170",
   "metadata": {},
   "source": [
    "- **Sol 1:** \n",
    "- **Time Comp**  = O(N)\n",
    "- **Space Comp** = O(N)  -> in wors case if every value is unique\n"
   ]
  },
  {
   "cell_type": "code",
   "execution_count": null,
   "id": "dd9f37e4",
   "metadata": {},
   "outputs": [
    {
     "data": {
      "text/plain": [
       "{1: 1, 2: 3, 3: 1, 8: 2, 6: 1}"
      ]
     },
     "execution_count": 2,
     "metadata": {},
     "output_type": "execute_result"
    }
   ],
   "source": [
    "def getFrequency(nums): # let nums len is N\n",
    "    frequency_map = {} \n",
    "    for i in range(0,len(nums)):       # O(N)\n",
    "        if nums[i] in frequency_map:    # O(1)\n",
    "            frequency_map[nums[i]] += 1   # O(1)\n",
    "        else: \n",
    "            frequency_map[nums[i]] = 1    # O(1)\n",
    "    return frequency_map\n",
    "\n",
    "getFrequency([1,2,3,2,2,8,8,6]) "
   ]
  },
  {
   "cell_type": "markdown",
   "id": "31fef1aa",
   "metadata": {},
   "source": [
    "Using **dictionary.get(key,default_value)**  \n",
    "- if key exist then return its value othervise return defalt value\n",
    "-  Don not raise KeyError if the key does not exist. \n",
    "\n",
    "```python\n",
    "student = {\"name\": \"Alice\", \"age\": 20}\n",
    "\n",
    "# Normal access\n",
    "print(student[\"name\"])   # Alice\n",
    "# print(student[\"grade\"]) # KeyError\n",
    "\n",
    "# Using get\n",
    "print(student.get(\"name\"))         # Alice\n",
    "print(student.get(\"grade\"))        # None (as default value not given )\n",
    "print(student.get(\"grade\", \"A++\")) # A++ (default value)\n",
    "\n",
    "```"
   ]
  },
  {
   "cell_type": "code",
   "execution_count": 7,
   "id": "adc11eee",
   "metadata": {},
   "outputs": [
    {
     "data": {
      "text/plain": [
       "{1: 1, 2: 3, 3: 1, 8: 2, 6: 1}"
      ]
     },
     "execution_count": 7,
     "metadata": {},
     "output_type": "execute_result"
    }
   ],
   "source": [
    "def FrequencyWithGetM(nums):\n",
    "    hash_map = {}\n",
    "    n = len(nums)\n",
    "    for i in range(0,n):\n",
    "        hash_map[nums[i]] = hash_map.get(nums[i],0) + 1\n",
    "    return hash_map\n",
    "\n",
    "getFrequency([1,2,3,2,2,8,8,6]) "
   ]
  }
 ],
 "metadata": {
  "kernelspec": {
   "display_name": "dsa",
   "language": "python",
   "name": "python3"
  },
  "language_info": {
   "codemirror_mode": {
    "name": "ipython",
    "version": 3
   },
   "file_extension": ".py",
   "mimetype": "text/x-python",
   "name": "python",
   "nbconvert_exporter": "python",
   "pygments_lexer": "ipython3",
   "version": "3.12.3"
  }
 },
 "nbformat": 4,
 "nbformat_minor": 5
}
